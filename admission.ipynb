{
 "cells": [
  {
   "cell_type": "code",
   "execution_count": null,
   "id": "e830a24f",
   "metadata": {},
   "outputs": [],
   "source": [
    "# 대학입시 합격 예측 딥러닝 실습\n",
    "import pandas as pd\n",
    "import numpy as np\n",
    "import tensorflow as tf\n",
    "from sklearn.model_selection import train_test_split\n",
    "from sklearn.preprocessing import StandardScaler\n",
    "from tensorflow.keras.utils import to_categorical"
   ]
  },
  {
   "cell_type": "code",
   "execution_count": null,
   "id": "95bb7a92",
   "metadata": {},
   "outputs": [],
   "source": [
    "# 1. 데이터 불러오기\n",
    "url = 'university_admission.csv'\n",
    "\n",
    "df = pd.read_csv(url)\n",
    "print(df.head())"
   ]
  },
  {
   "cell_type": "code",
   "execution_count": null,
   "id": "ea3dcfa9",
   "metadata": {},
   "outputs": [],
   "source": [
    "# 2. 입력(X)과 타겟(y) 설정\n",
    "X = df[['Exam_Score', 'School_Grade', 'Absent_Days', 'University_Level']].values\n",
    "y = df['Pass'].values"
   ]
  },
  {
   "cell_type": "code",
   "execution_count": null,
   "id": "e622d3b6",
   "metadata": {},
   "outputs": [],
   "source": [
    "# 3. 데이터 분리\n",
    "X_train, X_test, y_train, y_test = train_test_split(X, y, test_size=0.2)\n",
    "\n",
    "#print(X_train[:2], X_test[:2], y_train[:2], y_test[:2])"
   ]
  },
  {
   "cell_type": "code",
   "execution_count": null,
   "id": "560cfdb2",
   "metadata": {},
   "outputs": [],
   "source": [
    "# 4. 특성 스케일링\n",
    "scaler = StandardScaler()\n",
    "X_train = scaler.fit_transform(X_train)\n",
    "X_test = scaler.transform(X_test)\n",
    "\n",
    "print(X_train[:2], X_test[:2], y_train[:2], y_test[:2])"
   ]
  },
  {
   "cell_type": "code",
   "execution_count": null,
   "id": "81ab1137",
   "metadata": {},
   "outputs": [],
   "source": [
    "# 5. 모델 만들기\n",
    "model = tf.keras.Sequential([\n",
    "    tf.keras.layers.InputLayer(input_shape=(4,)),\n",
    "    tf.keras.layers.Dense(16, activation='sigmoid'),\n",
    "    tf.keras.layers.Dense(280, activation='sigmoid'),\n",
    "    tf.keras.layers.Dense(2, activation='sigmoid')\n",
    "])\n",
    "\n",
    "model.summary()"
   ]
  },
  {
   "cell_type": "code",
   "execution_count": null,
   "id": "bf749192",
   "metadata": {},
   "outputs": [],
   "source": [
    "#모델 실행\n",
    "model.compile(optimizer='sgd', loss='binary_crossentropy', metrics=['accuracy'])"
   ]
  },
  {
   "cell_type": "code",
   "execution_count": null,
   "id": "7d423cd9",
   "metadata": {},
   "outputs": [],
   "source": [
    "# 6. 타겟 데이터 one-hot 인코딩\n",
    "y_train_cat = to_categorical(y_train, num_classes=2)\n",
    "y_test_cat = to_categorical(y_test, num_classes=2)"
   ]
  },
  {
   "cell_type": "code",
   "execution_count": null,
   "id": "6ff6f10f",
   "metadata": {},
   "outputs": [],
   "source": [
    "# 7. 모델 훈련\n",
    "model.fit(X_train, y_train_cat, epochs=30, validation_split=0.2)"
   ]
  },
  {
   "cell_type": "code",
   "execution_count": null,
   "id": "804b6ffe",
   "metadata": {},
   "outputs": [],
   "source": [
    "# 8. 모델 평가\n",
    "loss, accuracy = model.evaluate(X_test, y_test_cat)\n",
    "print(f\"\\nTest Accuracy: {accuracy:.4f}\")"
   ]
  },
  {
   "cell_type": "code",
   "execution_count": null,
   "id": "4289b5fd",
   "metadata": {},
   "outputs": [],
   "source": [
    "import numpy as np\n",
    "\n",
    "# 새로운 학생 데이터 입력 받기\n",
    "exam_score = float(input(\"수능 점수를 입력하세요: \"))        # 예: 310\n",
    "school_grade = float(input(\"내신 등급을 입력하세요 (예: 3.1): \"))  # 예: 3.1\n",
    "absent_days = int(input(\"결석 일수를 입력하세요: \"))           # 예: 2\n",
    "university_level = int(input(\"지원 대학 등급을 입력하세요 (1~5): \"))  # 예: 2\n",
    "\n",
    "# 입력 데이터를 배열 형태로 묶기\n",
    "new_student = np.array([[exam_score, school_grade, absent_days, university_level]])\n",
    "\n",
    "# 데이터 스케일링 (학습할 때 사용한 scaler로 변환)\n",
    "new_student_scaled = scaler.transform(new_student)\n",
    "\n",
    "# 예측하기\n",
    "pred = model.predict(new_student_scaled)\n",
    "\n",
    "# 결과 해석\n",
    "predicted_class = np.argmax(pred)\n",
    "\n",
    "# 출력하기\n",
    "print(\"합격 확률:\", round(pred[0][1] * 100, 2), \"%\")\n"
   ]
  }
 ],
 "metadata": {
  "kernelspec": {
   "display_name": "Python 3",
   "language": "python",
   "name": "python3"
  },
  "language_info": {
   "codemirror_mode": {
    "name": "ipython",
    "version": 3
   },
   "file_extension": ".py",
   "mimetype": "text/x-python",
   "name": "python",
   "nbconvert_exporter": "python",
   "pygments_lexer": "ipython3",
   "version": "3.11.4"
  }
 },
 "nbformat": 4,
 "nbformat_minor": 5
}
