{
 "cells": [
  {
   "cell_type": "code",
   "execution_count": null,
   "id": "e830a24f",
   "metadata": {},
   "outputs": [],
   "source": [
    "# 대학입시 합격 예측 딥러닝 실습\n",
    "import pandas as pd\n",
    "import numpy as np\n",
    "from sklearn.model_selection import train_test_split\n",
    "from sklearn.preprocessing import StandardScaler\n",
    "from tensorflow.keras.utils import to_categorical\n",
    "import tensorflow as tf"
   ]
  },
  {
   "cell_type": "code",
   "execution_count": null,
   "id": "95bb7a92",
   "metadata": {},
   "outputs": [],
   "source": [
    "# 1. 데이터 불러오기\n",
    "url = 'university_admission.csv'\n",
    "\n",
    "df = pd.read_csv(url)\n",
    "print(df.head())"
   ]
  },
  {
   "cell_type": "code",
   "execution_count": null,
   "id": "ea3dcfa9",
   "metadata": {},
   "outputs": [],
   "source": [
    "# 2. 입력(X)과 타겟(y) 설정\n",
    "X = df[['Exam_Score', 'School_Grade', 'Absent_Days', 'University_Level']].values\n",
    "y = df['Pass'].values"
   ]
  },
  {
   "cell_type": "code",
   "execution_count": null,
   "id": "1def9580",
   "metadata": {},
   "outputs": [],
   "source": [
    "# 3. 데이터 분리 및 전처리\n",
    "from sklearn.model_selection import train_test_split\n",
    "from sklearn.preprocessing import StandardScaler\n",
    "\n",
    "X_train, X_test, y_train, y_test = train_test_split(X, y, test_size=0.2)\n",
    "\n",
    "scaler = StandardScaler()\n",
    "X_train_scaled = scaler.fit_transform(X_train)\n",
    "X_test_scaled = scaler.transform(X_test)\n"
   ]
  },
  {
   "cell_type": "code",
   "execution_count": null,
   "id": "5c0a9a0d",
   "metadata": {},
   "outputs": [],
   "source": [
    "# 4. 딥러닝 모델 구성 (예시)\n",
    "from tensorflow.keras.models import Sequential\n",
    "from tensorflow.keras.layers import Dense\n",
    "\n",
    "model = Sequential([\n",
    "    Dense(32, activation='relu', input_shape=(X_train.shape[1],)),\n",
    "    Dense(16, activation='relu'),\n",
    "    Dense(1, activation='sigmoid')\n",
    "])\n",
    "\n",
    "model.compile(optimizer='adam', loss='binary_crossentropy', metrics=['accuracy'])\n",
    "model.fit(X_train_scaled, y_train, epochs=20, batch_size=16, validation_split=0.2)"
   ]
  },
  {
   "cell_type": "code",
   "execution_count": null,
   "id": "14a04237",
   "metadata": {},
   "outputs": [],
   "source": [
    "# 5. 예측 및 평가\n",
    "y_pred_prob = model.predict(X_test_scaled).flatten()\n",
    "y_pred = (y_pred_prob >= 0.5).astype(int)\n",
    "\n",
    "from sklearn.metrics import accuracy_score, precision_score, recall_score, f1_score, roc_curve, auc, confusion_matrix\n",
    "import matplotlib.pyplot as plt\n",
    "import seaborn as sns"
   ]
  },
  {
   "cell_type": "code",
   "execution_count": null,
   "id": "23058454",
   "metadata": {},
   "outputs": [],
   "source": [
    "# 평가 지표 계산\n",
    "acc = accuracy_score(y_test, y_pred)\n",
    "prec = precision_score(y_test, y_pred)\n",
    "rec = recall_score(y_test, y_pred)\n",
    "f1 = f1_score(y_test, y_pred)\n",
    "fpr, tpr, thresholds = roc_curve(y_test, y_pred_prob)\n",
    "roc_auc = auc(fpr, tpr)"
   ]
  },
  {
   "cell_type": "code",
   "execution_count": null,
   "id": "c3885a1d",
   "metadata": {},
   "outputs": [],
   "source": [
    "# 지표 시각화\n",
    "plt.figure(figsize=(12,8))\n",
    "\n",
    "# 1.Confusion Matrix\n",
    "plt.subplot(2,2,1)\n",
    "cm = confusion_matrix(y_test, y_pred)\n",
    "sns.heatmap(cm, annot=True, fmt='d', cmap='Blues')\n",
    "plt.title('Confusion Matrix')\n",
    "plt.xlabel('Predicted')\n",
    "plt.ylabel('Actual')\n",
    "\n",
    "# 2.ROC Curve\n",
    "plt.subplot(2,2,2)\n",
    "plt.plot(fpr, tpr, label=f'AUC = {roc_auc:.2f}')\n",
    "plt.plot([0,1], [0,1], 'k--')\n",
    "plt.xlabel('False Positive Rate')\n",
    "plt.ylabel('True Positive Rate')\n",
    "plt.title('ROC Curve')\n",
    "plt.legend()\n",
    "\n",
    "# 3.Metrics Text\n",
    "plt.subplot(2,1,2)\n",
    "plt.axis('off')\n",
    "plt.text(0.1, 0.5, f'Accuracy  : {acc:.2f}\\nPrecision : {prec:.2f}\\nRecall    : {rec:.2f}\\nF1-Score  : {f1:.2f}\\nROC-AUC   : {roc_auc:.2f}', fontsize=14, va='center')\n",
    "\n",
    "plt.tight_layout()\n",
    "plt.show()\n",
    "\n",
    "# 💡 지표 설명 주석 추가\n",
    "# - Accuracy  : 전체 예측 중 정답 비율\n",
    "# - Precision : '합격'이라고 예측한 것 중 실제 합격인 비율 (정밀도)\n",
    "# - Recall    : 실제 합격자 중에서 모델이 잘 맞춘 비율 (재현율)\n",
    "# - F1-Score  : Precision과 Recall의 균형 평가\n",
    "# - ROC-AUC   : 다양한 기준에서 모델의 종합 분류 성능 (1에 가까울수록 좋음)"
   ]
  }
 ],
 "metadata": {
  "kernelspec": {
   "display_name": "Python 3",
   "language": "python",
   "name": "python3"
  },
  "language_info": {
   "codemirror_mode": {
    "name": "ipython",
    "version": 3
   },
   "file_extension": ".py",
   "mimetype": "text/x-python",
   "name": "python",
   "nbconvert_exporter": "python",
   "pygments_lexer": "ipython3",
   "version": "3.11.4"
  }
 },
 "nbformat": 4,
 "nbformat_minor": 5
}
